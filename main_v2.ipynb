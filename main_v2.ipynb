{
 "cells": [
  {
   "cell_type": "code",
   "execution_count": 2,
   "metadata": {
    "id": "1L1T13hDbWdb"
   },
   "outputs": [],
   "source": [
    "import numpy as np\n",
    "import os\n",
    "from os import listdir\n",
    "import matplotlib.pyplot as plt\n",
    "\n",
    "from keras.utils import to_categorical\n",
    "from keras.models import Sequential\n",
    "from keras.layers import Conv2D, MaxPooling2D, Flatten, Dense\n",
    "from sklearn.metrics import confusion_matrix\n"
   ]
  },
  {
   "cell_type": "code",
   "execution_count": 3,
   "metadata": {},
   "outputs": [
    {
     "name": "stdout",
     "output_type": "stream",
     "text": [
      "   emotion     Usage                                             pixels\n",
      "0        0  Training  70 80 82 72 58 58 60 63 54 58 60 48 89 115 121...\n",
      "1        0  Training  151 150 147 155 148 133 111 140 170 174 182 15...\n",
      "2        2  Training  231 212 156 164 174 138 161 173 182 200 106 38...\n",
      "3        4  Training  24 32 36 30 32 23 19 20 30 41 21 22 32 34 21 1...\n",
      "4        6  Training  4 0 0 0 0 0 0 0 0 0 0 0 3 15 23 28 48 50 58 84...\n"
     ]
    }
   ],
   "source": [
    "#Load the 2nd dataset\n",
    "import pandas as pd\n",
    "\n",
    "#The data set : https://www.kaggle.com/datasets/debanga/facial-expression-recognition-challenge?resource=download\n",
    "#Rename the folder as faceEmotion_dataset_v2\n",
    "\n",
    "# read the CSV file\n",
    "df = pd.read_csv(\"faceEmotion_dataset_v2/icml_face_data.csv/icml_face_data.csv\")\n",
    "\n",
    "num_classes = 7\n",
    "\n",
    "# print the first few rows of the DataFrame\n",
    "print(df.head())"
   ]
  },
  {
   "cell_type": "code",
   "execution_count": 4,
   "metadata": {},
   "outputs": [
    {
     "data": {
      "text/html": [
       "<div>\n",
       "<style scoped>\n",
       "    .dataframe tbody tr th:only-of-type {\n",
       "        vertical-align: middle;\n",
       "    }\n",
       "\n",
       "    .dataframe tbody tr th {\n",
       "        vertical-align: top;\n",
       "    }\n",
       "\n",
       "    .dataframe thead th {\n",
       "        text-align: right;\n",
       "    }\n",
       "</style>\n",
       "<table border=\"1\" class=\"dataframe\">\n",
       "  <thead>\n",
       "    <tr style=\"text-align: right;\">\n",
       "      <th></th>\n",
       "      <th>index</th>\n",
       "      <th>emotion</th>\n",
       "      <th>Usage</th>\n",
       "      <th>pixels</th>\n",
       "    </tr>\n",
       "  </thead>\n",
       "  <tbody>\n",
       "    <tr>\n",
       "      <th>0</th>\n",
       "      <td>0</td>\n",
       "      <td>0</td>\n",
       "      <td>Training</td>\n",
       "      <td>70 80 82 72 58 58 60 63 54 58 60 48 89 115 121...</td>\n",
       "    </tr>\n",
       "    <tr>\n",
       "      <th>1</th>\n",
       "      <td>1</td>\n",
       "      <td>0</td>\n",
       "      <td>Training</td>\n",
       "      <td>151 150 147 155 148 133 111 140 170 174 182 15...</td>\n",
       "    </tr>\n",
       "    <tr>\n",
       "      <th>2</th>\n",
       "      <td>2</td>\n",
       "      <td>2</td>\n",
       "      <td>Training</td>\n",
       "      <td>231 212 156 164 174 138 161 173 182 200 106 38...</td>\n",
       "    </tr>\n",
       "    <tr>\n",
       "      <th>3</th>\n",
       "      <td>3</td>\n",
       "      <td>4</td>\n",
       "      <td>Training</td>\n",
       "      <td>24 32 36 30 32 23 19 20 30 41 21 22 32 34 21 1...</td>\n",
       "    </tr>\n",
       "    <tr>\n",
       "      <th>4</th>\n",
       "      <td>4</td>\n",
       "      <td>6</td>\n",
       "      <td>Training</td>\n",
       "      <td>4 0 0 0 0 0 0 0 0 0 0 0 3 15 23 28 48 50 58 84...</td>\n",
       "    </tr>\n",
       "    <tr>\n",
       "      <th>...</th>\n",
       "      <td>...</td>\n",
       "      <td>...</td>\n",
       "      <td>...</td>\n",
       "      <td>...</td>\n",
       "    </tr>\n",
       "    <tr>\n",
       "      <th>35882</th>\n",
       "      <td>35882</td>\n",
       "      <td>6</td>\n",
       "      <td>PrivateTest</td>\n",
       "      <td>50 36 17 22 23 29 33 39 34 37 37 37 39 43 48 5...</td>\n",
       "    </tr>\n",
       "    <tr>\n",
       "      <th>35883</th>\n",
       "      <td>35883</td>\n",
       "      <td>3</td>\n",
       "      <td>PrivateTest</td>\n",
       "      <td>178 174 172 173 181 188 191 194 196 199 200 20...</td>\n",
       "    </tr>\n",
       "    <tr>\n",
       "      <th>35884</th>\n",
       "      <td>35884</td>\n",
       "      <td>0</td>\n",
       "      <td>PrivateTest</td>\n",
       "      <td>17 17 16 23 28 22 19 17 25 26 20 24 31 19 27 9...</td>\n",
       "    </tr>\n",
       "    <tr>\n",
       "      <th>35885</th>\n",
       "      <td>35885</td>\n",
       "      <td>3</td>\n",
       "      <td>PrivateTest</td>\n",
       "      <td>30 28 28 29 31 30 42 68 79 81 77 67 67 71 63 6...</td>\n",
       "    </tr>\n",
       "    <tr>\n",
       "      <th>35886</th>\n",
       "      <td>35886</td>\n",
       "      <td>2</td>\n",
       "      <td>PrivateTest</td>\n",
       "      <td>19 13 14 12 13 16 21 33 50 57 71 84 97 108 122...</td>\n",
       "    </tr>\n",
       "  </tbody>\n",
       "</table>\n",
       "<p>35887 rows × 4 columns</p>\n",
       "</div>"
      ],
      "text/plain": [
       "       index  emotion        Usage  \\\n",
       "0          0        0     Training   \n",
       "1          1        0     Training   \n",
       "2          2        2     Training   \n",
       "3          3        4     Training   \n",
       "4          4        6     Training   \n",
       "...      ...      ...          ...   \n",
       "35882  35882        6  PrivateTest   \n",
       "35883  35883        3  PrivateTest   \n",
       "35884  35884        0  PrivateTest   \n",
       "35885  35885        3  PrivateTest   \n",
       "35886  35886        2  PrivateTest   \n",
       "\n",
       "                                                  pixels  \n",
       "0      70 80 82 72 58 58 60 63 54 58 60 48 89 115 121...  \n",
       "1      151 150 147 155 148 133 111 140 170 174 182 15...  \n",
       "2      231 212 156 164 174 138 161 173 182 200 106 38...  \n",
       "3      24 32 36 30 32 23 19 20 30 41 21 22 32 34 21 1...  \n",
       "4      4 0 0 0 0 0 0 0 0 0 0 0 3 15 23 28 48 50 58 84...  \n",
       "...                                                  ...  \n",
       "35882  50 36 17 22 23 29 33 39 34 37 37 37 39 43 48 5...  \n",
       "35883  178 174 172 173 181 188 191 194 196 199 200 20...  \n",
       "35884  17 17 16 23 28 22 19 17 25 26 20 24 31 19 27 9...  \n",
       "35885  30 28 28 29 31 30 42 68 79 81 77 67 67 71 63 6...  \n",
       "35886  19 13 14 12 13 16 21 33 50 57 71 84 97 108 122...  \n",
       "\n",
       "[35887 rows x 4 columns]"
      ]
     },
     "execution_count": 4,
     "metadata": {},
     "output_type": "execute_result"
    }
   ],
   "source": [
    "def remove_emotion(df, numberEmotion):\n",
    "    '''Remove the \"numberEmotion\" from the dataset df'''\n",
    "    maskEmotion = df[\"emotion\"] != numberEmotion\n",
    "\n",
    "    return df.loc[maskEmotion]\n",
    "\n",
    "# If we want to remove an emotion from the data, we can use this code\n",
    "# df = remove_emotion(df, 2)\n",
    "# df = remove_emotion(df, 3)\n",
    "# df = remove_emotion(df, 6)\n",
    "df = df.reset_index()\n",
    "df"
   ]
  },
  {
   "cell_type": "code",
   "execution_count": 5,
   "metadata": {},
   "outputs": [],
   "source": [
    "#Split between training and test\n",
    "maskTraining = df[\" Usage\"] == \"Training\"\n",
    "maskTest = [not elem for elem in maskTraining]\n",
    "\n",
    "df_train = df.loc[maskTraining]\n",
    "df_test = df.loc[maskTest]"
   ]
  },
  {
   "cell_type": "code",
   "execution_count": 6,
   "metadata": {},
   "outputs": [],
   "source": [
    "def list_string_to_arrayImages(L, sizeX=48, sizeY=48):\n",
    "\n",
    "    Images_Dataset = []\n",
    "    for k in range(L.index[0], L.index[-1] + 1):\n",
    "        # split the string into a list of strings\n",
    "        # lst = df[\" pixels\"][k].split()\n",
    "        lst = L[k].split()\n",
    "\n",
    "        # convert the strings to integers using map() and a lambda function\n",
    "        lst = list(map(lambda x: int(x), lst))\n",
    "\n",
    "        Images_Dataset.append(lst)\n",
    "    Images_Dataset = np.array(Images_Dataset)\n",
    "    Images_Dataset = Images_Dataset.reshape(Images_Dataset.shape[0], sizeX , sizeY)\n",
    "    Images_Dataset = Images_Dataset.astype('float32')\n",
    "    Images_Dataset /= 255\n",
    "    return Images_Dataset"
   ]
  },
  {
   "cell_type": "code",
   "execution_count": 7,
   "metadata": {},
   "outputs": [
    {
     "name": "stdout",
     "output_type": "stream",
     "text": [
      "(28709, 48, 48)\n",
      "(7178, 48, 48)\n"
     ]
    }
   ],
   "source": [
    "#Proprocess dataset and get X_train and X_test\n",
    "X_train = list_string_to_arrayImages(df_train[\" pixels\"])\n",
    "X_test = list_string_to_arrayImages(df_test[\" pixels\"])\n",
    "\n",
    "print((X_train).shape)\n",
    "print((X_test).shape)\n"
   ]
  },
  {
   "cell_type": "code",
   "execution_count": 8,
   "metadata": {},
   "outputs": [],
   "source": [
    "#get y_train and y_test\n",
    "Labels_train = list(df_train[\"emotion\"])\n",
    "Labels_test = list(df_test[\"emotion\"])"
   ]
  },
  {
   "cell_type": "code",
   "execution_count": 9,
   "metadata": {},
   "outputs": [
    {
     "name": "stdout",
     "output_type": "stream",
     "text": [
      "Epoch 1/10\n",
      "898/898 [==============================] - 56s 60ms/step - loss: 1.6189 - accuracy: 0.3728\n",
      "Epoch 2/10\n",
      "898/898 [==============================] - 30s 33ms/step - loss: 1.4491 - accuracy: 0.4528\n",
      "Epoch 3/10\n",
      "898/898 [==============================] - 29s 33ms/step - loss: 1.3616 - accuracy: 0.4883\n",
      "Epoch 4/10\n",
      "898/898 [==============================] - 29s 33ms/step - loss: 1.3011 - accuracy: 0.5179\n",
      "Epoch 5/10\n",
      "898/898 [==============================] - 29s 33ms/step - loss: 1.2507 - accuracy: 0.5373\n",
      "Epoch 6/10\n",
      "898/898 [==============================] - 29s 32ms/step - loss: 1.2052 - accuracy: 0.5562\n",
      "Epoch 7/10\n",
      "898/898 [==============================] - 29s 32ms/step - loss: 1.1630 - accuracy: 0.5745\n",
      "Epoch 8/10\n",
      "898/898 [==============================] - 29s 32ms/step - loss: 1.1318 - accuracy: 0.5857\n",
      "Epoch 9/10\n",
      "898/898 [==============================] - 29s 32ms/step - loss: 1.0954 - accuracy: 0.6003\n",
      "Epoch 10/10\n",
      "898/898 [==============================] - 29s 32ms/step - loss: 1.0598 - accuracy: 0.6132\n"
     ]
    },
    {
     "data": {
      "text/plain": [
       "<keras.callbacks.History at 0x167a1dff8e0>"
      ]
     },
     "execution_count": 9,
     "metadata": {},
     "output_type": "execute_result"
    }
   ],
   "source": [
    "#change the shape of the object labels\n",
    "y_train = to_categorical(Labels_train, num_classes) \n",
    "y_test = to_categorical(Labels_test, num_classes) \n",
    "\n",
    "# define the model\n",
    "model = Sequential()\n",
    "model.add(Conv2D(32, (3, 3), activation='relu', input_shape=(48, 48, 1)))\n",
    "model.add(MaxPooling2D((2, 2)))\n",
    "model.add(Flatten())\n",
    "model.add(Dense(num_classes, activation='softmax'))\n",
    "\n",
    "# compile the model\n",
    "model.compile(optimizer='adam', loss='categorical_crossentropy', metrics=['accuracy'])\n",
    "\n",
    "# train the model\n",
    "model.fit(X_train, y_train, epochs=10, batch_size=32)\n"
   ]
  },
  {
   "cell_type": "code",
   "execution_count": 10,
   "metadata": {},
   "outputs": [
    {
     "name": "stdout",
     "output_type": "stream",
     "text": [
      "225/225 [==============================] - 3s 13ms/step\n",
      "Accuracy: 0.47826692672053495\n"
     ]
    }
   ],
   "source": [
    "predictions = model.predict(X_test)\n",
    "\n",
    "# calculate the accuracy of the predictions\n",
    "accuracy = np.mean(np.argmax(predictions, axis=1) == np.argmax(y_test, axis=1))\n",
    "\n",
    "\n",
    "print('Accuracy:', accuracy)"
   ]
  },
  {
   "cell_type": "code",
   "execution_count": 11,
   "metadata": {},
   "outputs": [
    {
     "name": "stdout",
     "output_type": "stream",
     "text": [
      "898/898 [==============================] - 12s 13ms/step\n"
     ]
    },
    {
     "data": {
      "image/png": "[encoded data removed]",
      "text/plain": [
       "<Figure size 640x480 with 2 Axes>"
      ]
     },
     "metadata": {},
     "output_type": "display_data"
    }
   ],
   "source": [
    "predictions_class_train = np.argmax(model.predict(X_train), axis=1)\n",
    "# y_test and predictions_class are the true labels and predicted labels, respectively\n",
    "cm = confusion_matrix(np.argmax(y_train, axis=1), predictions_class_train)\n",
    "plt.imshow(cm, cmap='Blues')\n",
    "plt.colorbar()\n",
    "plt.xlabel('Predicted labels')\n",
    "plt.ylabel('True labels')\n",
    "plt.title('Confusion Matrix for the training data')\n",
    "plt.show()"
   ]
  },
  {
   "cell_type": "code",
   "execution_count": 12,
   "metadata": {},
   "outputs": [
    {
     "data": {
      "image/png": "[encoded data removed]",
      "text/plain": [
       "<Figure size 640x480 with 2 Axes>"
      ]
     },
     "metadata": {},
     "output_type": "display_data"
    }
   ],
   "source": [
    "predictions_class = np.argmax(predictions, axis=1)\n",
    "# y_test and predictions_class are the true labels and predicted labels, respectively\n",
    "cm = confusion_matrix(np.argmax(y_test, axis=1), predictions_class)\n",
    "plt.imshow(cm, cmap='Blues')\n",
    "plt.colorbar()\n",
    "plt.xlabel('Predicted labels')\n",
    "plt.ylabel('True labels')\n",
    "plt.title('Confusion Matrix for the validation data')\n",
    "plt.show()"
   ]
  },
  {
   "cell_type": "code",
   "execution_count": 13,
   "metadata": {},
   "outputs": [
    {
     "name": "stdout",
     "output_type": "stream",
     "text": [
      "Accuracy by class: [0.33820459290187893, 0.32432432432432434, 0.3349609375, 0.6347237880496054, 0.38011226944667204, 0.6666666666666666, 0.46715328467153283]\n",
      "Precision: [0.37543453 0.62068966 0.31788693 0.71492063 0.33450953 0.60612691\n",
      " 0.45283019]\n",
      "Recall: [0.33820459 0.32432432 0.33496094 0.63472379 0.38011227 0.66666667\n",
      " 0.46715328]\n",
      "F1 score: [0.35584843 0.4260355  0.32620067 0.67243953 0.35585586 0.63495702\n",
      " 0.45988024]\n"
     ]
    }
   ],
   "source": [
    "from sklearn.metrics import precision_score, recall_score, f1_score\n",
    "\n",
    "accuracies = []\n",
    "for i in range(num_classes):\n",
    "    accuracy = cm[i, i] / cm[i].sum()\n",
    "    accuracies.append(accuracy)\n",
    "print(\"Accuracy by class:\", accuracies)\n",
    "\n",
    "# calculate the precision, recall, and F1 score\n",
    "precision = precision_score(np.argmax(y_test, axis=1), np.argmax(predictions, axis=1), average=None)\n",
    "recall = recall_score(np.argmax(y_test, axis=1), np.argmax(predictions, axis=1), average=None)\n",
    "f1 = f1_score(np.argmax(y_test, axis=1), np.argmax(predictions, axis=1), average=None)\n",
    "\n",
    "print('Precision:', precision)\n",
    "print('Recall:', recall)\n",
    "print('F1 score:', f1)"
   ]
  },
  {
   "cell_type": "code",
   "execution_count": null,
   "metadata": {},
   "outputs": [],
   "source": []
  }
 ],
 "metadata": {
  "kernelspec": {
   "display_name": "Python 3",
   "language": "python",
   "name": "python3"
  },
  "language_info": {
   "codemirror_mode": {
    "name": "ipython",
    "version": 3
   },
   "file_extension": ".py",
   "mimetype": "text/x-python",
   "name": "python",
   "nbconvert_exporter": "python",
   "pygments_lexer": "ipython3",
   "version": "3.10.5 (tags/v3.10.5:f377153, Jun  6 2022, 16:14:13) [MSC v.1929 64 bit (AMD64)]"
  },
  "orig_nbformat": 4,
  "vscode": {
   "interpreter": {
    "hash": "0fbef96a433aec4ee8be3bee9000d8ceb0ccbbbdc08053ad2b2121fec2f6d456"
   }
  }
 },
 "nbformat": 4,
 "nbformat_minor": 2
}
