{
 "cells": [
  {
   "cell_type": "code",
   "execution_count": 41,
   "metadata": {
    "id": "1L1T13hDbWdb"
   },
   "outputs": [],
   "source": [
    "import numpy as np\n",
    "import os\n",
    "from os import listdir\n",
    "import matplotlib.pyplot as plt\n",
    "\n",
    "from keras.utils import to_categorical\n",
    "from keras.models import Sequential\n",
    "from keras.layers import Conv2D, MaxPooling2D, Flatten, Dense\n"
   ]
  },
  {
   "cell_type": "code",
   "execution_count": 42,
   "metadata": {},
   "outputs": [
    {
     "name": "stdout",
     "output_type": "stream",
     "text": [
      "   emotion     Usage                                             pixels\n",
      "0        0  Training  70 80 82 72 58 58 60 63 54 58 60 48 89 115 121...\n",
      "1        0  Training  151 150 147 155 148 133 111 140 170 174 182 15...\n",
      "2        2  Training  231 212 156 164 174 138 161 173 182 200 106 38...\n",
      "3        4  Training  24 32 36 30 32 23 19 20 30 41 21 22 32 34 21 1...\n",
      "4        6  Training  4 0 0 0 0 0 0 0 0 0 0 0 3 15 23 28 48 50 58 84...\n"
     ]
    }
   ],
   "source": [
    "#Load the 2nd dataset\n",
    "import pandas as pd\n",
    "\n",
    "#The data set : https://www.kaggle.com/datasets/debanga/facial-expression-recognition-challenge?resource=download\n",
    "#Rename the folder as faceEmotion_dataset_v2\n",
    "\n",
    "# read the CSV file\n",
    "df = pd.read_csv(\"faceEmotion_dataset_v2/icml_face_data.csv/icml_face_data.csv\")\n",
    "\n",
    "num_classes = 7\n",
    "\n",
    "# print the first few rows of the DataFrame\n",
    "print(df.head())"
   ]
  },
  {
   "cell_type": "code",
   "execution_count": 31,
   "metadata": {},
   "outputs": [],
   "source": [
    "def remove_emotion(df, numberEmotion):\n",
    "    '''Remove the \"numberEmotion\" from the dataset df'''\n",
    "    maskEmotion = df[\"emotion\"] != numberEmotion\n",
    "\n",
    "    return df.loc[maskEmotion]\n",
    "\n",
    "# If we want to remove an emotion from the data, we can use this code\n",
    "# df = remove_emotion(df, 2)\n",
    "# df = remove_emotion(df, 3)\n",
    "# df = remove_emotion(df, 6)\n",
    "df = df.reset_index()\n",
    "df"
   ]
  },
  {
   "cell_type": "code",
   "execution_count": 43,
   "metadata": {},
   "outputs": [],
   "source": [
    "#Split between training and test\n",
    "maskTraining = df[\" Usage\"] == \"Training\"\n",
    "maskTest = [not elem for elem in maskTraining]\n",
    "\n",
    "df_train = df.loc[maskTraining]\n",
    "df_test = df.loc[maskTest]"
   ]
  },
  {
   "cell_type": "code",
   "execution_count": 45,
   "metadata": {},
   "outputs": [],
   "source": [
    "def list_string_to_arrayImages(L, sizeX=48, sizeY=48):\n",
    "\n",
    "    Images_Dataset = []\n",
    "    for k in range(L.index[0], L.index[-1] + 1):\n",
    "        # split the string into a list of strings\n",
    "        # lst = df[\" pixels\"][k].split()\n",
    "        lst = L[k].split()\n",
    "\n",
    "        # convert the strings to integers using map() and a lambda function\n",
    "        lst = list(map(lambda x: int(x), lst))\n",
    "\n",
    "        Images_Dataset.append(lst)\n",
    "    Images_Dataset = np.array(Images_Dataset)\n",
    "    Images_Dataset = Images_Dataset.reshape(Images_Dataset.shape[0], sizeX , sizeY)\n",
    "    Images_Dataset = Images_Dataset.astype('float32')\n",
    "    Images_Dataset /= 255\n",
    "    return Images_Dataset"
   ]
  },
  {
   "cell_type": "code",
   "execution_count": 46,
   "metadata": {},
   "outputs": [
    {
     "name": "stdout",
     "output_type": "stream",
     "text": [
      "(28709, 48, 48)\n",
      "(7178, 48, 48)\n"
     ]
    }
   ],
   "source": [
    "#Proprocess dataset and get X_train and X_test\n",
    "X_train = list_string_to_arrayImages(df_train[\" pixels\"])\n",
    "X_test = list_string_to_arrayImages(df_test[\" pixels\"])\n",
    "\n",
    "print((X_train).shape)\n",
    "print((X_test).shape)\n"
   ]
  },
  {
   "cell_type": "code",
   "execution_count": 58,
   "metadata": {},
   "outputs": [],
   "source": [
    "#get y_train and y_test\n",
    "Labels_train = list(df_train[\"emotion\"])\n",
    "Labels_test = list(df_test[\"emotion\"])"
   ]
  },
  {
   "cell_type": "code",
   "execution_count": 59,
   "metadata": {},
   "outputs": [
    {
     "name": "stdout",
     "output_type": "stream",
     "text": [
      "Epoch 1/10\n",
      "898/898 [==============================] - 73s 80ms/step - loss: 1.6145 - accuracy: 0.3734\n",
      "Epoch 2/10\n",
      "898/898 [==============================] - 75s 84ms/step - loss: 1.4536 - accuracy: 0.4480\n",
      "Epoch 3/10\n",
      "898/898 [==============================] - 71s 80ms/step - loss: 1.3705 - accuracy: 0.4857\n",
      "Epoch 4/10\n",
      "898/898 [==============================] - 78s 87ms/step - loss: 1.3110 - accuracy: 0.5104\n",
      "Epoch 5/10\n",
      "898/898 [==============================] - 72s 80ms/step - loss: 1.2673 - accuracy: 0.5278\n",
      "Epoch 6/10\n",
      "898/898 [==============================] - 66s 73ms/step - loss: 1.2262 - accuracy: 0.5469\n",
      "Epoch 7/10\n",
      "898/898 [==============================] - 67s 75ms/step - loss: 1.1886 - accuracy: 0.5620\n",
      "Epoch 8/10\n",
      "898/898 [==============================] - 67s 75ms/step - loss: 1.1522 - accuracy: 0.5758\n",
      "Epoch 9/10\n",
      "898/898 [==============================] - 66s 73ms/step - loss: 1.1173 - accuracy: 0.5917\n",
      "Epoch 10/10\n",
      "898/898 [==============================] - 82s 91ms/step - loss: 1.0802 - accuracy: 0.6034\n"
     ]
    },
    {
     "data": {
      "text/plain": [
       "<keras.callbacks.History at 0x1c2823581c0>"
      ]
     },
     "execution_count": 59,
     "metadata": {},
     "output_type": "execute_result"
    }
   ],
   "source": [
    "#change the shape of the object labels\n",
    "y_train = to_categorical(Labels_train, num_classes) \n",
    "y_test = to_categorical(Labels_test, num_classes) \n",
    "\n",
    "# define the model\n",
    "model = Sequential()\n",
    "model.add(Conv2D(32, (3, 3), activation='relu', input_shape=(48, 48, 1)))\n",
    "model.add(MaxPooling2D((2, 2)))\n",
    "model.add(Flatten())\n",
    "model.add(Dense(num_classes, activation='softmax'))\n",
    "\n",
    "# compile the model\n",
    "model.compile(optimizer='adam', loss='categorical_crossentropy', metrics=['accuracy'])\n",
    "\n",
    "# train the model\n",
    "model.fit(X_train, y_train, epochs=10, batch_size=32)\n"
   ]
  },
  {
   "cell_type": "code",
   "execution_count": 81,
   "metadata": {},
   "outputs": [
    {
     "name": "stdout",
     "output_type": "stream",
     "text": [
      "225/225 [==============================] - 3s 15ms/step\n",
      "Accuracy: 0.47826692672053495\n"
     ]
    }
   ],
   "source": [
    "predictions = model.predict(X_test)\n",
    "\n",
    "# calculate the accuracy of the predictions\n",
    "accuracy = np.mean(np.argmax(predictions, axis=1) == np.argmax(y_test, axis=1))\n",
    "\n",
    "\n",
    "print('Accuracy:', accuracy)"
   ]
  },
  {
   "cell_type": "code",
   "execution_count": 84,
   "metadata": {},
   "outputs": [
    {
     "data": {
      "image/png": "[encoded data removed]",
      "text/plain": [
       "<Figure size 640x480 with 2 Axes>"
      ]
     },
     "metadata": {},
     "output_type": "display_data"
    }
   ],
   "source": [
    "from sklearn.metrics import confusion_matrix\n",
    "\n",
    "predictions_class = np.argmax(predictions, axis=1)\n",
    "# y_true and y_pred are the true labels and predicted labels, respectively\n",
    "cm = confusion_matrix(np.argmax(y_test, axis=1), predictions_class)\n",
    "plt.imshow(cm, cmap='Blues')\n",
    "plt.colorbar()\n",
    "plt.xlabel('Predicted labels')\n",
    "plt.ylabel('True labels')\n",
    "plt.title('Confusion Matrix')\n",
    "plt.show()"
   ]
  },
  {
   "cell_type": "code",
   "execution_count": 86,
   "metadata": {},
   "outputs": [
    {
     "name": "stdout",
     "output_type": "stream",
     "text": [
      "Accuracy by class: [0.3987473903966597, 0.34234234234234234, 0.310546875, 0.7260428410372041, 0.2814755412991179, 0.6329723225030084, 0.42984590429845904]\n",
      "Precision: [0.34046346 0.6031746  0.33615222 0.6004662  0.36       0.64460784\n",
      " 0.4770477 ]\n",
      "Recall: [0.39874739 0.34234234 0.31054688 0.72604284 0.28147554 0.63297232\n",
      " 0.4298459 ]\n",
      "F1 score: [0.36730769 0.43678161 0.32284264 0.65731054 0.31593159 0.6387371\n",
      " 0.45221843]\n"
     ]
    }
   ],
   "source": [
    "from sklearn.metrics import precision_score, recall_score, f1_score\n",
    "\n",
    "accuracies = []\n",
    "for i in range(num_classes):\n",
    "    accuracy = cm[i, i] / cm[i].sum()\n",
    "    accuracies.append(accuracy)\n",
    "print(\"Accuracy by class:\", accuracies)\n",
    "\n",
    "# calculate the precision, recall, and F1 score\n",
    "precision = precision_score(np.argmax(y_test, axis=1), np.argmax(predictions, axis=1), average=None)\n",
    "recall = recall_score(np.argmax(y_test, axis=1), np.argmax(predictions, axis=1), average=None)\n",
    "f1 = f1_score(np.argmax(y_test, axis=1), np.argmax(predictions, axis=1), average=None)\n",
    "\n",
    "print('Precision:', precision)\n",
    "print('Recall:', recall)\n",
    "print('F1 score:', f1)"
   ]
  }
 ],
 "metadata": {
  "kernelspec": {
   "display_name": "Python 3",
   "language": "python",
   "name": "python3"
  },
  "language_info": {
   "codemirror_mode": {
    "name": "ipython",
    "version": 3
   },
   "file_extension": ".py",
   "mimetype": "text/x-python",
   "name": "python",
   "nbconvert_exporter": "python",
   "pygments_lexer": "ipython3",
   "version": "3.10.5"
  },
  "orig_nbformat": 4,
  "vscode": {
   "interpreter": {
    "hash": "0fbef96a433aec4ee8be3bee9000d8ceb0ccbbbdc08053ad2b2121fec2f6d456"
   }
  }
 },
 "nbformat": 4,
 "nbformat_minor": 2
}
